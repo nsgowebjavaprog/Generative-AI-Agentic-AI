{
 "cells": [
  {
   "cell_type": "code",
   "execution_count": null,
   "metadata": {},
   "outputs": [],
   "source": [
    "import numpy as np\n",
    "import matplotlib.pyplot as plt\n",
    "from sklearn.datasets import make_blobs"
   ]
  },
  {
   "cell_type": "code",
   "execution_count": null,
   "metadata": {},
   "outputs": [],
   "source": [
    "X,y = make_blobs(n_samples = 500,n_features = 2,centers = 3,random_state = 23)\n",
    "\n",
    "fig = plt.figure(0)\n",
    "plt.grid(True)\n",
    "plt.scatter(X[:,0],X[:,1])\n",
    "plt.show()"
   ]
  },
  {
   "cell_type": "code",
   "execution_count": null,
   "metadata": {},
   "outputs": [],
   "source": [
    "k = 3\n",
    "\n",
    "clusters = {}\n",
    "np.random.seed(23)\n",
    "\n",
    "for idx in range(k):\n",
    "    center = 2*(2*np.random.random((X.shape[1],))-1)\n",
    "    points = []\n",
    "    cluster = {\n",
    "        'center' : center,\n",
    "        'points' : []\n",
    "    }\n",
    "    \n",
    "    clusters[idx] = cluster\n",
    "    \n",
    "clusters"
   ]
  },
  {
   "cell_type": "code",
   "execution_count": null,
   "metadata": {},
   "outputs": [],
   "source": [
    "plt.scatter(X[:,0],X[:,1])\n",
    "plt.grid(True)\n",
    "for i in clusters:\n",
    "    center = clusters[i]['center']\n",
    "    plt.scatter(center[0],center[1],marker = '*',c = 'red')\n",
    "plt.show()"
   ]
  },
  {
   "cell_type": "code",
   "execution_count": null,
   "metadata": {},
   "outputs": [],
   "source": [
    "def distance(p1,p2):\n",
    "    return np.sqrt(np.sum((p1-p2)**2))"
   ]
  },
  {
   "cell_type": "code",
   "execution_count": null,
   "metadata": {},
   "outputs": [],
   "source": [
    "#Implementing E step \n",
    "def assign_clusters(X, clusters):\n",
    "    for idx in range(X.shape[0]):\n",
    "        dist = []\n",
    "        \n",
    "        curr_x = X[idx]\n",
    "        \n",
    "        for i in range(k):\n",
    "            dis = distance(curr_x,clusters[i]['center'])\n",
    "            dist.append(dis)\n",
    "        curr_cluster = np.argmin(dist)\n",
    "        clusters[curr_cluster]['points'].append(curr_x)\n",
    "    return clusters\n",
    "        \n",
    "#Implementing the M-Step\n",
    "def update_clusters(X, clusters):\n",
    "    for i in range(k):\n",
    "        points = np.array(clusters[i]['points'])\n",
    "        if points.shape[0] > 0:\n",
    "            new_center = points.mean(axis =0)\n",
    "            clusters[i]['center'] = new_center\n",
    "            \n",
    "            clusters[i]['points'] = []\n",
    "    return clusters"
   ]
  },
  {
   "cell_type": "code",
   "execution_count": null,
   "metadata": {},
   "outputs": [],
   "source": [
    "def pred_cluster(X, clusters):\n",
    "    pred = []\n",
    "    for i in range(X.shape[0]):\n",
    "        dist = []\n",
    "        for j in range(k):\n",
    "            dist.append(distance(X[i],clusters[j]['center']))\n",
    "        pred.append(np.argmin(dist))\n",
    "    return pred"
   ]
  },
  {
   "cell_type": "code",
   "execution_count": null,
   "metadata": {},
   "outputs": [],
   "source": [
    "clusters = assign_clusters(X,clusters)\n",
    "clusters = update_clusters(X,clusters)\n",
    "pred = pred_cluster(X,clusters)"
   ]
  },
  {
   "cell_type": "code",
   "execution_count": null,
   "metadata": {},
   "outputs": [],
   "source": [
    "plt.scatter(X[:,0],X[:,1],c = pred)\n",
    "for i in clusters:\n",
    "    center = clusters[i]['center']\n",
    "    plt.scatter(center[0],center[1],marker = '^',c = 'red')\n",
    "plt.show()"
   ]
  },
  {
   "cell_type": "code",
   "execution_count": null,
   "metadata": {},
   "outputs": [],
   "source": []
  },
  {
   "cell_type": "code",
   "execution_count": null,
   "metadata": {},
   "outputs": [],
   "source": []
  },
  {
   "cell_type": "code",
   "execution_count": null,
   "metadata": {},
   "outputs": [],
   "source": []
  }
 ],
 "metadata": {
  "kernelspec": {
   "display_name": "Python 3",
   "language": "python",
   "name": "python3"
  },
  "language_info": {
   "name": "python",
   "version": "3.12.8"
  }
 },
 "nbformat": 4,
 "nbformat_minor": 2
}
