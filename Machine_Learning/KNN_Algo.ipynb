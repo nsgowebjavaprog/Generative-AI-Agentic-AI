{
 "cells": [
  {
   "cell_type": "code",
   "execution_count": null,
   "metadata": {},
   "outputs": [],
   "source": [
    "# K-Nearest Neighbor(KNN) Algorithm"
   ]
  },
  {
   "cell_type": "code",
   "execution_count": 1,
   "metadata": {},
   "outputs": [
    {
     "name": "stdout",
     "output_type": "stream",
     "text": [
      "The value classified to unknown point is: 0\n"
     ]
    }
   ],
   "source": [
    "import math\n",
    "\n",
    "def classifyAPoint(points,p,k=3):\n",
    "    '''\n",
    "     This function finds the classification of p using\n",
    "     k nearest neighbor algorithm. It assumes only two\n",
    "     groups and returns 0 if p belongs to group 0, else\n",
    "      1 (belongs to group 1).\n",
    "\n",
    "      Parameters - \n",
    "          points: Dictionary of training points having two keys - 0 and 1\n",
    "                   Each key have a list of training data points belong to that \n",
    "\n",
    "          p : A tuple, test data point of the form (x,y)\n",
    "\n",
    "          k : number of nearest neighbour to consider, default is 3 \n",
    "    '''\n",
    "\n",
    "    distance=[]\n",
    "    for group in points:\n",
    "        for feature in points[group]:\n",
    "\n",
    "            #calculate the euclidean distance of p from training points \n",
    "            euclidean_distance = math.sqrt((feature[0]-p[0])**2 +(feature[1]-p[1])**2)\n",
    "\n",
    "            # Add a tuple of form (distance,group) in the distance list\n",
    "            distance.append((euclidean_distance,group))\n",
    "\n",
    "    # sort the distance list in ascending order\n",
    "    # and select first k distances\n",
    "    distance = sorted(distance)[:k]\n",
    "\n",
    "    freq1 = 0 #frequency of group 0\n",
    "    freq2 = 0 #frequency og group 1\n",
    "\n",
    "    for d in distance:\n",
    "        if d[1] == 0:\n",
    "            freq1 += 1\n",
    "        elif d[1] == 1:\n",
    "            freq2 += 1\n",
    "\n",
    "    return 0 if freq1>freq2 else 1\n",
    "\n",
    "# driver function\n",
    "def main():\n",
    "\n",
    "    # Dictionary of training points having two keys - 0 and 1\n",
    "    # key 0 have points belong to class 0\n",
    "    # key 1 have points belong to class 1\n",
    "\n",
    "    points = {0:[(1,12),(2,5),(3,6),(3,10),(3.5,8),(2,11),(2,9),(1,7)],\n",
    "              1:[(5,3),(3,2),(1.5,9),(7,2),(6,1),(3.8,1),(5.6,4),(4,2),(2,5)]}\n",
    "\n",
    "    # testing point p(x,y)\n",
    "    p = (2.5,7)\n",
    "\n",
    "    # Number of neighbours \n",
    "    k = 3\n",
    "\n",
    "    print(\"The value classified to unknown point is: {}\".\\\n",
    "          format(classifyAPoint(points,p,k)))\n",
    "\n",
    "if __name__ == '__main__':\n",
    "    main()"
   ]
  }
 ],
 "metadata": {
  "kernelspec": {
   "display_name": "Python 3",
   "language": "python",
   "name": "python3"
  },
  "language_info": {
   "codemirror_mode": {
    "name": "ipython",
    "version": 3
   },
   "file_extension": ".py",
   "mimetype": "text/x-python",
   "name": "python",
   "nbconvert_exporter": "python",
   "pygments_lexer": "ipython3",
   "version": "3.12.8"
  }
 },
 "nbformat": 4,
 "nbformat_minor": 2
}
