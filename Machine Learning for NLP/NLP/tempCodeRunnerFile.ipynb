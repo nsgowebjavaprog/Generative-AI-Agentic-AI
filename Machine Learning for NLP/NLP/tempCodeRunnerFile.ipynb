messages = pd.read_csv('smsspamcollection/SMSSpamCollection', sep='\t', names=["label","message"])
