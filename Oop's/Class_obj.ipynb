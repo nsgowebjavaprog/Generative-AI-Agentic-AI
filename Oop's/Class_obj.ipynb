{
 "cells": [
  {
   "cell_type": "code",
   "execution_count": null,
   "metadata": {},
   "outputs": [
    {
     "name": "stdout",
     "output_type": "stream",
     "text": [
      "<__main__.Dog object at 0x000001E9D26FEF00>\n",
      "Buddy\n",
      "8\n"
     ]
    }
   ],
   "source": [
    "## Method \n",
    "\n",
    "class Dog:\n",
    "    ##Constructor\n",
    "    \n",
    "    def __init__(self, name, age):\n",
    "        self.name = name\n",
    "        self.age = age\n",
    "        \n",
    "# Create Objects\n",
    "\n",
    "dog1 = Dog(\"Buddy\", 8)\n",
    "print(dog1)    # <__main__.Dog object at 0x000001E9D26FEF00>\n",
    "\n",
    "print(dog1.name)  # Buddy\n",
    "print(dog1.age)   # 8"
   ]
  },
  {
   "cell_type": "code",
   "execution_count": null,
   "metadata": {},
   "outputs": [
    {
     "name": "stdout",
     "output_type": "stream",
     "text": [
      "<__main__.Dog object at 0x000001E9D2B01910>\n",
      "Seek\n",
      "4\n"
     ]
    }
   ],
   "source": [
    "dog2 = Dog(\"Seek\", 4)\n",
    "print(dog2)   \n",
    "\n",
    "print(dog2.name)  # Seek\n",
    "print(dog2.age)   # 4"
   ]
  },
  {
   "cell_type": "code",
   "execution_count": null,
   "metadata": {},
   "outputs": [],
   "source": [
    "#  self ---> keyword\n",
    "#  __init__   --> construcot"
   ]
  },
  {
   "cell_type": "code",
   "execution_count": 4,
   "metadata": {},
   "outputs": [
    {
     "name": "stdout",
     "output_type": "stream",
     "text": [
      "buddy says woof\n",
      "asas says woof\n"
     ]
    }
   ],
   "source": [
    "class Dog:\n",
    "    def __init__(self, name, age):\n",
    "        self.name = name\n",
    "        self.age = age\n",
    "        \n",
    "    def bark(self):\n",
    "        print(f\"{self.name} says woof\")\n",
    "        \n",
    "dog1 = Dog(\"buddy\", 3)\n",
    "dog1.bark()\n",
    "\n",
    "dog2 = Dog(\"asas\", 23)\n",
    "dog2.bark()            "
   ]
  },
  {
   "cell_type": "code",
   "execution_count": 9,
   "metadata": {},
   "outputs": [
    {
     "name": "stdout",
     "output_type": "stream",
     "text": [
      "10000000\n",
      "1000 is deposited , New Balance is 10001000\n",
      "30000 is withdrawn. New balance is 9971000\n",
      "<bound method BankAccount.get_balance of <__main__.BankAccount object at 0x000001E9D2B02990>>\n",
      "Today Date is 12-Aug-2028\n"
     ]
    }
   ],
   "source": [
    "# Bank\n",
    "\n",
    "class BankAccount:\n",
    "    def __init__(self, owner, balance = 0):\n",
    "        self.owner = owner\n",
    "        self.balance = balance\n",
    "        \n",
    "    def deposit(self,amount):\n",
    "        self.balance = self.balance + amount    \n",
    "        print(f\"{amount} is deposited , New Balance is {self.balance}\")\n",
    "        \n",
    "    def withdraw(self, amount):\n",
    "        if amount > self.balance:\n",
    "            print(\"No More Money\") \n",
    "        else:\n",
    "            self.balance = self.balance - amount\n",
    "            print(f\"{amount} is withdrawn. New balance is {self.balance}\")  \n",
    "            \n",
    "            \n",
    "    def get_balance(self):\n",
    "        return self.balance\n",
    "    \n",
    "account = BankAccount(\"NS LONI\" , 10000000)\n",
    "print(account.balance)\n",
    "\n",
    "\n",
    "account.deposit(1000)\n",
    "\n",
    "\n",
    "account.withdraw(30000)\n",
    "\n",
    "\n",
    "print(account.get_balance)\n",
    "\n",
    "print(\"Today Date is 12-Aug-2028\")                 "
   ]
  },
  {
   "cell_type": "code",
   "execution_count": 10,
   "metadata": {},
   "outputs": [
    {
     "name": "stdout",
     "output_type": "stream",
     "text": [
      "NS LONI\n"
     ]
    }
   ],
   "source": [
    "print(\"NS LONI\")"
   ]
  },
  {
   "cell_type": "code",
   "execution_count": null,
   "metadata": {},
   "outputs": [],
   "source": [
    "# Python3 program to\n",
    "# demonstrate defining\n",
    "# a class\n",
    "\n",
    "class Dog:\n",
    "    pass"
   ]
  },
  {
   "cell_type": "code",
   "execution_count": null,
   "metadata": {},
   "outputs": [],
   "source": [
    "obj = Dog()"
   ]
  },
  {
   "cell_type": "code",
   "execution_count": null,
   "metadata": {},
   "outputs": [],
   "source": []
  },
  {
   "cell_type": "code",
   "execution_count": null,
   "metadata": {},
   "outputs": [],
   "source": []
  },
  {
   "cell_type": "code",
   "execution_count": null,
   "metadata": {},
   "outputs": [],
   "source": []
  }
 ],
 "metadata": {
  "kernelspec": {
   "display_name": "Python 3",
   "language": "python",
   "name": "python3"
  },
  "language_info": {
   "codemirror_mode": {
    "name": "ipython",
    "version": 3
   },
   "file_extension": ".py",
   "mimetype": "text/x-python",
   "name": "python",
   "nbconvert_exporter": "python",
   "pygments_lexer": "ipython3",
   "version": "3.12.8"
  }
 },
 "nbformat": 4,
 "nbformat_minor": 2
}
