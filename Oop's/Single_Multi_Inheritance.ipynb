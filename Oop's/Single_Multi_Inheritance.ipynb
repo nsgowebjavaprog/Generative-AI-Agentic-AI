{
 "cells": [
  {
   "cell_type": "code",
   "execution_count": null,
   "metadata": {},
   "outputs": [
    {
     "name": "stdout",
     "output_type": "stream",
     "text": [
      "Drawing a car type is Petrol car.\n",
      "\n"
     ]
    }
   ],
   "source": [
    "# Parent class\n",
    "class Car:\n",
    "    def __init__ (self, window, doors, type):\n",
    "        self.window = window\n",
    "        self.doors = doors\n",
    "        self.type = type\n",
    "        \n",
    "    def driving(self):\n",
    "        print(f\"Drawing a car type is {self.type} car.\")    \n",
    "\n",
    "car1 = Car(4,5,\"Petrol\")\n",
    "car1.driving()"
   ]
  },
  {
   "cell_type": "code",
   "execution_count": null,
   "metadata": {},
   "outputs": [
    {
     "name": "stdout",
     "output_type": "stream",
     "text": [
      "Tesla is supporting a self Drawing : True\n"
     ]
    }
   ],
   "source": [
    "# Child Class [Tesla]\n",
    "\n",
    "class Tesla(Car):\n",
    "    def __init__(self, window, doors, type, self_drawing):\n",
    "        \n",
    "        # Access from Parent\n",
    "        super().__init__(window, doors, type)\n",
    "        self.self_drawing = self_drawing\n",
    "        \n",
    "    def selfdriving(self):\n",
    "        print(f\"Tesla is supporting a self Drawing : {self.self_drawing}\")\n",
    "        \n",
    "tesla = Tesla(4,5,\"Petrol\", True)\n",
    "tesla.selfdriving()            "
   ]
  },
  {
   "cell_type": "code",
   "execution_count": 9,
   "metadata": {},
   "outputs": [
    {
     "name": "stdout",
     "output_type": "stream",
     "text": [
      "Buddddy Say WooF..\n",
      "Owner is : Owner_NAME\n"
     ]
    }
   ],
   "source": [
    "## Multiple Inheritance\n",
    "\n",
    "# parent class-1\n",
    "\n",
    "class Animal:\n",
    "    def __init__(self, name):\n",
    "        self.name = name\n",
    "        \n",
    "    def speak(self):\n",
    "        print(\"Main Class-1\")  \n",
    "\n",
    "# parent class-2\n",
    "\n",
    "class Pet:\n",
    "    def __init__(self, owner):\n",
    "        self.owner = owner\n",
    "        \n",
    "# Derived Class\n",
    "\n",
    "class Dog(Animal, Pet):\n",
    "    def __init__(self, name, owner):\n",
    "        Animal. __init__(self, name)   \n",
    "        Pet. __init__(self, owner)  \n",
    "        \n",
    "    def speak(self):\n",
    "        return f\"{self.name} Say WooF..\"\n",
    "    \n",
    "# Create an Object\n",
    "\n",
    "dog = Dog(\"Buddddy\", \"Owner_NAME\")\n",
    "print(dog.speak()) \n",
    "\n",
    "print(f\"Owner is : {dog.owner}\")           "
   ]
  }
 ],
 "metadata": {
  "kernelspec": {
   "display_name": "Python 3",
   "language": "python",
   "name": "python3"
  },
  "language_info": {
   "codemirror_mode": {
    "name": "ipython",
    "version": 3
   },
   "file_extension": ".py",
   "mimetype": "text/x-python",
   "name": "python",
   "nbconvert_exporter": "python",
   "pygments_lexer": "ipython3",
   "version": "3.12.8"
  }
 },
 "nbformat": 4,
 "nbformat_minor": 2
}
