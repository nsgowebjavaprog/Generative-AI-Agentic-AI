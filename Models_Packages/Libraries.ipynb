{
 "cells": [
  {
   "cell_type": "code",
   "execution_count": 3,
   "metadata": {},
   "outputs": [
    {
     "name": "stdout",
     "output_type": "stream",
     "text": [
      "array('i', [1, 2, 3, 4])\n"
     ]
    }
   ],
   "source": [
    "import array\n",
    "arr = array.array('i',[1,2,3,4])\n",
    "print(arr)"
   ]
  },
  {
   "cell_type": "code",
   "execution_count": 4,
   "metadata": {},
   "outputs": [
    {
     "name": "stdout",
     "output_type": "stream",
     "text": [
      "4.0\n",
      "3.141592653589793\n"
     ]
    }
   ],
   "source": [
    "import math\n",
    "print(math.sqrt(16))\n",
    "print(math.pi)"
   ]
  },
  {
   "cell_type": "code",
   "execution_count": null,
   "metadata": {},
   "outputs": [
    {
     "name": "stdout",
     "output_type": "stream",
     "text": [
      "13\n",
      "apple\n"
     ]
    }
   ],
   "source": [
    "# Random\n",
    "\n",
    "import random\n",
    "\n",
    "print(random.randint(10,20))\n",
    "\n",
    "print(random.choice(['apple', 'banana', 'mango']))"
   ]
  },
  {
   "cell_type": "code",
   "execution_count": 10,
   "metadata": {},
   "outputs": [
    {
     "name": "stdout",
     "output_type": "stream",
     "text": [
      "<built-in function getcwd>\n"
     ]
    }
   ],
   "source": [
    "## File & Directory Access\n",
    "\n",
    "import os\n",
    "\n",
    "print(os.getcwd)  # Working directory"
   ]
  },
  {
   "cell_type": "code",
   "execution_count": null,
   "metadata": {},
   "outputs": [],
   "source": [
    "os.mkdir('New_Dir')"
   ]
  },
  {
   "cell_type": "code",
   "execution_count": null,
   "metadata": {},
   "outputs": [
    {
     "data": {
      "text/plain": [
       "'destination.txt'"
      ]
     },
     "execution_count": 12,
     "metadata": {},
     "output_type": "execute_result"
    }
   ],
   "source": [
    "## High Level Operations\n",
    "\n",
    "import shutil\n",
    "# Copy from s- to -> d file\n",
    "shutil.copyfile('source.txt', 'destination.txt')"
   ]
  },
  {
   "cell_type": "code",
   "execution_count": null,
   "metadata": {},
   "outputs": [
    {
     "name": "stdout",
     "output_type": "stream",
     "text": [
      "{\"name\": \"Nagaraj\", \"age\": 20}\n",
      "<class 'str'>\n",
      "{'name': 'Nagaraj', 'age': 20}\n",
      "<class 'dict'>\n"
     ]
    }
   ],
   "source": [
    "## Data Serialization\n",
    "\n",
    "import json\n",
    "\n",
    "data = {'name':'Nagaraj', \"age\" : 20}\n",
    "\n",
    "\n",
    "json_str = json.dumps(data)\n",
    "print(json_str) \n",
    "print(type(json_str))  # <class 'str'>\n",
    "\n",
    "\n",
    "json_load = json.loads(json_str)\n",
    "print(json_load)\n",
    "print(type(json_load))  # <class 'dict'>\n"
   ]
  },
  {
   "cell_type": "code",
   "execution_count": 17,
   "metadata": {},
   "outputs": [],
   "source": [
    "## CSV\n",
    "\n",
    "# Create a CSV file\n",
    "\n",
    "import csv\n",
    "\n",
    "with open('exmaple.csv', mode='w', newline='') as file:\n",
    "    writer = csv.writer(file)\n",
    "    writer.writerow(['name', 'age'])\n",
    "    writer.writerow(['Nsloni', 20])"
   ]
  },
  {
   "cell_type": "code",
   "execution_count": null,
   "metadata": {},
   "outputs": [],
   "source": []
  },
  {
   "cell_type": "code",
   "execution_count": null,
   "metadata": {},
   "outputs": [
    {
     "name": "stdout",
     "output_type": "stream",
     "text": [
      "['name', 'age']\n",
      "['Nsloni', '20']\n"
     ]
    }
   ],
   "source": [
    "# Reading a CSV File\n",
    "\n",
    "with open('exmaple.csv', mode='r') as file:\n",
    "    reader = csv.reader(file)\n",
    "    for r in reader:\n",
    "        print(r) "
   ]
  },
  {
   "cell_type": "code",
   "execution_count": 20,
   "metadata": {},
   "outputs": [
    {
     "name": "stdout",
     "output_type": "stream",
     "text": [
      "2024-12-09 15:43:20.500070\n",
      "2024-12-08 15:43:20.500070\n"
     ]
    }
   ],
   "source": [
    "## Date & Time\n",
    "\n",
    "from datetime import datetime, timedelta\n",
    "\n",
    "now_time = datetime.now()\n",
    "print(now_time)\n",
    "\n",
    "yesterday_time = now_time - timedelta(days=1)\n",
    "print(yesterday_time)"
   ]
  },
  {
   "cell_type": "code",
   "execution_count": 22,
   "metadata": {},
   "outputs": [
    {
     "name": "stdout",
     "output_type": "stream",
     "text": [
      "1733739391.117926\n",
      "1733739395.1198444\n"
     ]
    }
   ],
   "source": [
    "## Time\n",
    "\n",
    "import time\n",
    "\n",
    "print(time.time())\n",
    "\n",
    "time.sleep(4)\n",
    "\n",
    "print(time.time())"
   ]
  },
  {
   "cell_type": "code",
   "execution_count": null,
   "metadata": {},
   "outputs": [
    {
     "name": "stdout",
     "output_type": "stream",
     "text": [
      "1212\n"
     ]
    }
   ],
   "source": [
    "## Regular Expression\n",
    "\n",
    "import re\n",
    "\n",
    "pattern = r'\\d+'\n",
    "\n",
    "text = 'Theere are no. of people eg: 1212'\n",
    "\n",
    "match = re.search(pattern, text)\n",
    "\n",
    "print(match.group())"
   ]
  }
 ],
 "metadata": {
  "kernelspec": {
   "display_name": "Python 3",
   "language": "python",
   "name": "python3"
  },
  "language_info": {
   "codemirror_mode": {
    "name": "ipython",
    "version": 3
   },
   "file_extension": ".py",
   "mimetype": "text/x-python",
   "name": "python",
   "nbconvert_exporter": "python",
   "pygments_lexer": "ipython3",
   "version": "3.12.8"
  }
 },
 "nbformat": 4,
 "nbformat_minor": 2
}
