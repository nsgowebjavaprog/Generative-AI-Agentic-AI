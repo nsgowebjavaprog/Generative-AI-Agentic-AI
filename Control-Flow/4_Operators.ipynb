{
 "cells": [
  {
   "cell_type": "code",
   "execution_count": null,
   "metadata": {},
   "outputs": [
    {
     "name": "stdout",
     "output_type": "stream",
     "text": [
      "46\n",
      "34\n",
      "240\n",
      "6.666666666666667\n",
      "6\n",
      "4096000000\n"
     ]
    },
    {
     "data": {
      "text/plain": [
       "'\\n46\\n34\\n240\\n6.666666666666667\\n6\\n'"
      ]
     },
     "execution_count": 2,
     "metadata": {},
     "output_type": "execute_result"
    }
   ],
   "source": [
    "# Operations\n",
    "\n",
    "# 1. Arithmatic Operation\n",
    "\n",
    "a = 40\n",
    "b = 6\n",
    "\n",
    "result = a+ b\n",
    "print(result)\n",
    "\n",
    "result = a -b\n",
    "print(result)\n",
    "\n",
    "result = a*b\n",
    "print(result)\n",
    "\n",
    "result = a/b\n",
    "print(result)\n",
    "\n",
    "result = a // b\n",
    "print(result)\n",
    "\n",
    "result = a**b\n",
    "print(result)\n",
    "'''\n",
    "46\n",
    "34\n",
    "240\n",
    "6.666666666666667\n",
    "6\n",
    "4096000000\n",
    "'''\n"
   ]
  },
  {
   "cell_type": "code",
   "execution_count": 3,
   "metadata": {},
   "outputs": [
    {
     "data": {
      "text/plain": [
       "10.5"
      ]
     },
     "execution_count": 3,
     "metadata": {},
     "output_type": "execute_result"
    }
   ],
   "source": [
    "21/2\n"
   ]
  },
  {
   "cell_type": "code",
   "execution_count": 4,
   "metadata": {},
   "outputs": [
    {
     "data": {
      "text/plain": [
       "10"
      ]
     },
     "execution_count": 4,
     "metadata": {},
     "output_type": "execute_result"
    }
   ],
   "source": [
    "21//2"
   ]
  },
  {
   "cell_type": "code",
   "execution_count": null,
   "metadata": {},
   "outputs": [
    {
     "name": "stdout",
     "output_type": "stream",
     "text": [
      "True\n",
      "False\n",
      "True\n"
     ]
    }
   ],
   "source": [
    "## Comparision Operators\n",
    "\n",
    "# == \n",
    "\n",
    "a = 10\n",
    "b = 10\n",
    "\n",
    "result = (a==b)\n",
    "print(result)   # True\n",
    "\n",
    "str1 = \"NS\"\n",
    "str2 = \"ns\"\n",
    "\n",
    "print(str1 == str2)\n",
    "\n",
    "# !=\n",
    "\n",
    "str1 = \"NS\"\n",
    "str2 = \"ns\"\n",
    "\n",
    "print(str1 != str2)\n"
   ]
  },
  {
   "cell_type": "code",
   "execution_count": null,
   "metadata": {},
   "outputs": [
    {
     "name": "stdout",
     "output_type": "stream",
     "text": [
      "False\n",
      "True\n"
     ]
    }
   ],
   "source": [
    "# > , <\n",
    "\n",
    "x = 10\n",
    "y = 20\n",
    "\n",
    "print(x>y)\n",
    "print(x<y)"
   ]
  },
  {
   "cell_type": "code",
   "execution_count": null,
   "metadata": {},
   "outputs": [
    {
     "name": "stdout",
     "output_type": "stream",
     "text": [
      "False\n",
      "True\n",
      "True\n"
     ]
    }
   ],
   "source": [
    "# \n",
    "a = 10\n",
    "b = 10\n",
    "\n",
    "print(a>b) # False\n",
    "\n",
    "print(a>=b) # True \n",
    "\n",
    "print(a<=b) # True"
   ]
  },
  {
   "cell_type": "markdown",
   "metadata": {},
   "source": [
    "Logical Operators"
   ]
  },
  {
   "cell_type": "code",
   "execution_count": null,
   "metadata": {},
   "outputs": [
    {
     "name": "stdout",
     "output_type": "stream",
     "text": [
      "True\n"
     ]
    }
   ],
   "source": [
    "# and, or, not\n",
    "\n",
    "# 1.and\n",
    "\n",
    "name = True\n",
    "is_student = True\n",
    "\n",
    "print(name and is_student) # True"
   ]
  },
  {
   "cell_type": "code",
   "execution_count": null,
   "metadata": {},
   "outputs": [
    {
     "name": "stdout",
     "output_type": "stream",
     "text": [
      "False\n"
     ]
    }
   ],
   "source": [
    "# 1.and\n",
    "\n",
    "name = True\n",
    "is_student = False\n",
    "\n",
    "print(name and is_student) # False"
   ]
  },
  {
   "cell_type": "code",
   "execution_count": null,
   "metadata": {},
   "outputs": [
    {
     "name": "stdout",
     "output_type": "stream",
     "text": [
      "True\n"
     ]
    }
   ],
   "source": [
    "# 2. or\n",
    "\n",
    "name = True\n",
    "is_student = False\n",
    "\n",
    "print(name or is_student) # True"
   ]
  },
  {
   "cell_type": "code",
   "execution_count": null,
   "metadata": {},
   "outputs": [
    {
     "name": "stdout",
     "output_type": "stream",
     "text": [
      "False\n"
     ]
    }
   ],
   "source": [
    "name = False\n",
    "is_student = False\n",
    "\n",
    "print(name or is_student) # False"
   ]
  },
  {
   "cell_type": "code",
   "execution_count": null,
   "metadata": {},
   "outputs": [
    {
     "name": "stdout",
     "output_type": "stream",
     "text": [
      "True\n"
     ]
    }
   ],
   "source": [
    "# 3.not\n",
    "\n",
    "is_student = False\n",
    "\n",
    "print(not(is_student)) # True"
   ]
  },
  {
   "cell_type": "code",
   "execution_count": 17,
   "metadata": {},
   "outputs": [
    {
     "name": "stdout",
     "output_type": "stream",
     "text": [
      "Thank You\n"
     ]
    }
   ],
   "source": [
    "print(\"Thank You\")"
   ]
  }
 ],
 "metadata": {
  "kernelspec": {
   "display_name": "Python 3",
   "language": "python",
   "name": "python3"
  },
  "language_info": {
   "codemirror_mode": {
    "name": "ipython",
    "version": 3
   },
   "file_extension": ".py",
   "mimetype": "text/x-python",
   "name": "python",
   "nbconvert_exporter": "python",
   "pygments_lexer": "ipython3",
   "version": "3.12.7"
  }
 },
 "nbformat": 4,
 "nbformat_minor": 2
}
