{
 "cells": [
  {
   "cell_type": "code",
   "execution_count": null,
   "metadata": {},
   "outputs": [
    {
     "name": "stdout",
     "output_type": "stream",
     "text": [
      "Hello Baby\n"
     ]
    }
   ],
   "source": [
    "### Hello Good Evening\n",
    "\n",
    "print(\"Hello Baby\")"
   ]
  },
  {
   "cell_type": "code",
   "execution_count": null,
   "metadata": {},
   "outputs": [],
   "source": [
    "## Basic syntax..\n",
    "\n",
    "# Python is a Case sensitive\n",
    "\n",
    "'''\n",
    "This is an 3multiple line comment line\n",
    "we can use to easy\n",
    "etc & more...\n",
    "'''"
   ]
  },
  {
   "cell_type": "code",
   "execution_count": 5,
   "metadata": {},
   "outputs": [
    {
     "name": "stdout",
     "output_type": "stream",
     "text": [
      "Nagaraj Loni\n",
      "20\n",
      "True\n"
     ]
    }
   ],
   "source": [
    "name = \"Nagaraj Loni\"\n",
    "age = 20\n",
    "student = True\n",
    "\n",
    "print(name)\n",
    "print(age)\n",
    "print(student)"
   ]
  },
  {
   "cell_type": "code",
   "execution_count": 6,
   "metadata": {},
   "outputs": [
    {
     "name": "stdout",
     "output_type": "stream",
     "text": [
      "OK\n"
     ]
    }
   ],
   "source": [
    "## Indentation [space]\n",
    "\n",
    "age = 20\n",
    "if age > 18:\n",
    "    print(\"OK\")\n",
    "else:\n",
    "    print(\"Errror\")    \n",
    "\n"
   ]
  },
  {
   "cell_type": "code",
   "execution_count": 8,
   "metadata": {},
   "outputs": [
    {
     "name": "stdout",
     "output_type": "stream",
     "text": [
      "35\n"
     ]
    }
   ],
   "source": [
    "## Line Continuation\n",
    "\n",
    "total = 1+2+3+4+5+6+\\\n",
    "2+3+4+5\n",
    "\n",
    "print(total)"
   ]
  },
  {
   "cell_type": "code",
   "execution_count": 11,
   "metadata": {},
   "outputs": [
    {
     "name": "stdout",
     "output_type": "stream",
     "text": [
      "10\n"
     ]
    }
   ],
   "source": [
    "## Single line Multi statement\n",
    "\n",
    "a=10; b=20; c=30\n",
    "print(a)"
   ]
  },
  {
   "cell_type": "code",
   "execution_count": null,
   "metadata": {},
   "outputs": [
    {
     "name": "stdout",
     "output_type": "stream",
     "text": [
      "<class 'int'>\n"
     ]
    }
   ],
   "source": [
    "# Variable assignment\n",
    "# Data type will assign at a declaration at run time..\n",
    "\n",
    "Name = \"Nagaraj Loni\"\n",
    "age = 20      #--------> <class 'int'>\n",
    "isStudent = True\n",
    "\n",
    "# Type Inference\n",
    "print(type(age))"
   ]
  },
  {
   "cell_type": "code",
   "execution_count": 14,
   "metadata": {},
   "outputs": [
    {
     "name": "stdout",
     "output_type": "stream",
     "text": [
      "<class 'str'>\n",
      "<class 'int'>\n",
      "<class 'bool'>\n"
     ]
    }
   ],
   "source": [
    "# Type Inference--assign @ Run Time\n",
    "\n",
    "Name = \"Nagaraj Loni\"\n",
    "age = 20      #--------> <class 'int'>\n",
    "isStudent = True\n",
    "\n",
    "print(type(Name))\n",
    "print(type(age))\n",
    "print(type(isStudent))"
   ]
  },
  {
   "cell_type": "code",
   "execution_count": null,
   "metadata": {},
   "outputs": [
    {
     "name": "stdout",
     "output_type": "stream",
     "text": [
      "correct Indentation\n",
      "Out of 1st IF\n",
      "Out of 2nd IF\n"
     ]
    }
   ],
   "source": [
    "## Indentation\n",
    "\n",
    "if True:\n",
    "    print(\"correct Indentation\")\n",
    "    if False:\n",
    "        print(\"No--It is false\")\n",
    "    print(\"Out of 1st IF\") \n",
    "print(\"Out of 2nd IF\")       "
   ]
  }
 ],
 "metadata": {
  "kernelspec": {
   "display_name": "Python 3",
   "language": "python",
   "name": "python3"
  },
  "language_info": {
   "codemirror_mode": {
    "name": "ipython",
    "version": 3
   },
   "file_extension": ".py",
   "mimetype": "text/x-python",
   "name": "python",
   "nbconvert_exporter": "python",
   "pygments_lexer": "ipython3",
   "version": "3.12.7"
  }
 },
 "nbformat": 4,
 "nbformat_minor": 2
}
