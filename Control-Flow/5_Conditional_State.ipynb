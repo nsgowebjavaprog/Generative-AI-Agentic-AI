{
 "cells": [
  {
   "cell_type": "code",
   "execution_count": 2,
   "metadata": {},
   "outputs": [
    {
     "name": "stdout",
     "output_type": "stream",
     "text": [
      "Conditional Statement\n"
     ]
    }
   ],
   "source": [
    "print(\"Conditional Statement\")"
   ]
  },
  {
   "cell_type": "code",
   "execution_count": 6,
   "metadata": {},
   "outputs": [],
   "source": [
    "## IF Statement\n",
    "\"\"\"\n",
    "if age \"Condition\" 20:   \n",
    "\"\"\"  \n",
    "\n",
    "age = 20\n",
    "\n",
    "if age < 18:\n",
    "    print(\"You can Vote in India\")  "
   ]
  },
  {
   "cell_type": "code",
   "execution_count": 8,
   "metadata": {},
   "outputs": [
    {
     "name": "stdout",
     "output_type": "stream",
     "text": [
      "You can Vote in India\n"
     ]
    }
   ],
   "source": [
    "age = 20\n",
    "\n",
    "if age > 18:\n",
    "    print(\"You can Vote in India\")  "
   ]
  },
  {
   "cell_type": "code",
   "execution_count": 9,
   "metadata": {},
   "outputs": [
    {
     "name": "stdout",
     "output_type": "stream",
     "text": [
      "You can Vote in India\n"
     ]
    }
   ],
   "source": [
    "## Else --> if is false then execute else block\n",
    "\n",
    "\n",
    "age = 20\n",
    "\n",
    "if age > 18:\n",
    "    print(\"You can Vote in India\")  \n",
    "else:\n",
    "    print(\"You are Not-Eligible for Voting\")    "
   ]
  },
  {
   "cell_type": "code",
   "execution_count": 10,
   "metadata": {},
   "outputs": [
    {
     "name": "stdout",
     "output_type": "stream",
     "text": [
      "You are Not-Eligible for Voting\n"
     ]
    }
   ],
   "source": [
    "age = 20\n",
    "\n",
    "if age < 18:\n",
    "    print(\"You can Vote in India\")  \n",
    "else:\n",
    "    print(\"You are Not-Eligible for Voting\") "
   ]
  },
  {
   "cell_type": "code",
   "execution_count": 13,
   "metadata": {},
   "outputs": [
    {
     "name": "stdout",
     "output_type": "stream",
     "text": [
      "You can Vote in India\n"
     ]
    }
   ],
   "source": [
    "# elif\n",
    "\n",
    "# Checking for multiple conditions\n",
    "\n",
    "age = 20\n",
    "\n",
    "if age > 18:\n",
    "    print(\"You can Vote in India\")  \n",
    "elif age<18 and age>13:\n",
    "    print(\"You are Not-Eligible for Voting\") \n",
    "    \n",
    "else:\n",
    "    print(\"You are Chils\")    "
   ]
  },
  {
   "cell_type": "code",
   "execution_count": null,
   "metadata": {},
   "outputs": [
    {
     "name": "stdout",
     "output_type": "stream",
     "text": [
      "Negative number\n"
     ]
    }
   ],
   "source": [
    "# Nested contional Statement\n",
    "\n",
    "# Eg: Number = even, odd, negetive (or) Positive...\n",
    "\n",
    "num = 20\n",
    "\n",
    "if num > 0:\n",
    "    print(\"Positive Number\")\n",
    "    if num % 2==0:\n",
    "        print(\"Even Number\")\n",
    "    else:\n",
    "        print(\"Odd Number \") \n",
    "else:\n",
    "    print(\"Negative number\")           "
   ]
  },
  {
   "cell_type": "code",
   "execution_count": 21,
   "metadata": {},
   "outputs": [
    {
     "name": "stdout",
     "output_type": "stream",
     "text": [
      "2000 This is leaf year\n"
     ]
    }
   ],
   "source": [
    "# Use cases Eg'set\n",
    "\n",
    "# 1. leaf year 366 Days\n",
    "\n",
    "year = 2000\n",
    "\n",
    "if year % 4 == 0:\n",
    "    if year % 100 == 0:\n",
    "        if year % 400 == 0:\n",
    "            print(f\"{year} This is leaf year\") \n",
    "        else:\n",
    "            print(f\"{year} Not leaf year\")\n",
    "    else:\n",
    "        print(f\"{year} Leaf year\") \n",
    "else:\n",
    "    print(f\"{year} Not Leaf year\")                \n"
   ]
  },
  {
   "cell_type": "code",
   "execution_count": 27,
   "metadata": {},
   "outputs": [
    {
     "name": "stdout",
     "output_type": "stream",
     "text": [
      "In-valid Operator\n",
      "0.5\n"
     ]
    }
   ],
   "source": [
    "num1 = int(input(\"Enter the num1: \"))\n",
    "num2 = int(input(\"Enter the num2: \"))\n",
    "\n",
    "operator = input(\"Enter the operator [+, -, *, /] \")\n",
    "\n",
    "if operator == \"+\":\n",
    "    res = num1 + num2\n",
    "    \n",
    "elif operator == \"-\":\n",
    "    res = num1 - num2 \n",
    "\n",
    "elif operator == \"*\":\n",
    "    res = num1 * num2\n",
    "\n",
    "elif operator == \"/\":\n",
    "    res = num1/num2\n",
    "\n",
    "\n",
    "else:\n",
    "    print(\"In-valid Operator\")\n",
    "print(res)    \n",
    "               "
   ]
  }
 ],
 "metadata": {
  "kernelspec": {
   "display_name": "Python 3",
   "language": "python",
   "name": "python3"
  },
  "language_info": {
   "codemirror_mode": {
    "name": "ipython",
    "version": 3
   },
   "file_extension": ".py",
   "mimetype": "text/x-python",
   "name": "python",
   "nbconvert_exporter": "python",
   "pygments_lexer": "ipython3",
   "version": "3.12.7"
  }
 },
 "nbformat": 4,
 "nbformat_minor": 2
}
