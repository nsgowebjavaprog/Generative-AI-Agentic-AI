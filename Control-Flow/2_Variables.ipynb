{
 "cells": [
  {
   "cell_type": "code",
   "execution_count": 12,
   "metadata": {},
   "outputs": [
    {
     "name": "stdout",
     "output_type": "stream",
     "text": [
      "Name: Nagaraj LONI\n",
      "age: 20\n",
      "heigth: 5.1\n",
      "Is_student: True\n"
     ]
    }
   ],
   "source": [
    "### Declaration and Assigning\n",
    "\n",
    "name = \"Nagaraj LONI\"\n",
    "age = 20\n",
    "heigth = 5.10\n",
    "is_student = True\n",
    "\n",
    "print(\"Name:\",name )\n",
    "print(\"age:\",age )\n",
    "print(\"heigth:\",heigth )\n",
    "print(\"Is_student:\",is_student )"
   ]
  },
  {
   "cell_type": "code",
   "execution_count": 13,
   "metadata": {},
   "outputs": [
    {
     "data": {
      "text/plain": [
       "'\\nFirst_name = \"NS\"\\n2f_name = \"ns\"\\n\\nprint(First_name)\\nprint(2f_name)  # invalid decimal literal\\n\\n'"
      ]
     },
     "execution_count": 13,
     "metadata": {},
     "output_type": "execute_result"
    }
   ],
   "source": [
    "# Naming Conventation\n",
    "\n",
    "'''\n",
    "var name should be:-\n",
    "1.Start _, letter\n",
    "2.case sensitive\n",
    "3.more\n",
    "\n",
    "Valid :- First_name, _isStudent, f_name, is100.....\n",
    "In-Valid :- 2f_name, first-name, f=name, @name....\n",
    "\n",
    "'''\n",
    "'''\n",
    "First_name = \"NS\"\n",
    "2f_name = \"ns\"\n",
    "\n",
    "print(First_name)\n",
    "print(2f_name)  # invalid decimal literal\n",
    "\n",
    "'''"
   ]
  },
  {
   "cell_type": "code",
   "execution_count": 14,
   "metadata": {},
   "outputs": [
    {
     "name": "stdout",
     "output_type": "stream",
     "text": [
      "nsloni\n",
      "NS-LONI\n"
     ]
    }
   ],
   "source": [
    "# Case sensitive\n",
    "\n",
    "name = \"nsloni\"\n",
    "Name = \"NS-LONI\"\n",
    "\n",
    "print(name)\n",
    "print(Name)"
   ]
  },
  {
   "cell_type": "code",
   "execution_count": 15,
   "metadata": {},
   "outputs": [
    {
     "name": "stdout",
     "output_type": "stream",
     "text": [
      "<class 'int'>\n",
      "<class 'str'>\n",
      "<class 'int'>\n"
     ]
    }
   ],
   "source": [
    "# Type checking & Conversion\n",
    "\n",
    "# 1\n",
    "age = 20\n",
    "\n",
    "print(type(age)) # <class 'int'>\n",
    "\n",
    "age = str(age)\n",
    "print(type(age)) # <class 'str'>\n",
    "\n",
    "# 2\n",
    "\n",
    "age = \"20\"\n",
    "print(type(int(age)))  # <class 'int'>"
   ]
  },
  {
   "cell_type": "code",
   "execution_count": 16,
   "metadata": {},
   "outputs": [],
   "source": [
    "# name = \"nsloni\"\n",
    "\n",
    "# print(type(int(name)))"
   ]
  },
  {
   "cell_type": "code",
   "execution_count": 17,
   "metadata": {},
   "outputs": [
    {
     "name": "stdout",
     "output_type": "stream",
     "text": [
      "20.0\n"
     ]
    }
   ],
   "source": [
    "age = 20\n",
    "\n",
    "print(float(age))"
   ]
  },
  {
   "cell_type": "code",
   "execution_count": null,
   "metadata": {},
   "outputs": [
    {
     "name": "stdout",
     "output_type": "stream",
     "text": [
      "10 <class 'int'>\n",
      "NS LONI <class 'str'>\n",
      "20.5 <class 'float'>\n",
      "True <class 'bool'>\n"
     ]
    }
   ],
   "source": [
    "# dynamic Typing\n",
    "# Python allows type of variable change as  the progrem execution\n",
    "var = 10\n",
    "print(var, type(var))\n",
    "#print(var, type(var))\n",
    "\n",
    "var = \"NS LONI\"\n",
    "print(var, type(var))\n",
    "# NS LONI <class 'str'>\n",
    "\n",
    "var = 20.5\n",
    "print(var, type(var))\n",
    "# 20.5 <class 'float'>\n",
    "\n",
    "var = True\n",
    "print(var, type(var))\n",
    "# True <class 'bool'>"
   ]
  },
  {
   "cell_type": "code",
   "execution_count": null,
   "metadata": {},
   "outputs": [
    {
     "name": "stdout",
     "output_type": "stream",
     "text": [
      "20 <class 'str'>\n",
      "20 <class 'int'>\n"
     ]
    }
   ],
   "source": [
    "age = input(\"Enter the age: \")\n",
    "print(age, type(age))\n",
    "# age = input(\"Enter the age: \")\n",
    "\n",
    "age = int(input(\"Enter the age: \"))\n",
    "print(age, type(age))\n",
    "# 20 <class 'int'>\n"
   ]
  },
  {
   "cell_type": "code",
   "execution_count": 22,
   "metadata": {},
   "outputs": [
    {
     "name": "stdout",
     "output_type": "stream",
     "text": [
      "39\n"
     ]
    }
   ],
   "source": [
    "num1 = int(input(\"Enter the num1:\"))\n",
    "num2 = int(input(\"Enter the num2:\"))\n",
    "sum = num1 + num2\n",
    "\n",
    "print(sum)"
   ]
  }
 ],
 "metadata": {
  "kernelspec": {
   "display_name": "Python 3",
   "language": "python",
   "name": "python3"
  },
  "language_info": {
   "codemirror_mode": {
    "name": "ipython",
    "version": 3
   },
   "file_extension": ".py",
   "mimetype": "text/x-python",
   "name": "python",
   "nbconvert_exporter": "python",
   "pygments_lexer": "ipython3",
   "version": "3.12.7"
  }
 },
 "nbformat": 4,
 "nbformat_minor": 2
}
